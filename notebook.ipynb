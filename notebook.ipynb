{
 "cells": [
  {
   "cell_type": "markdown",
   "id": "motivated-bhutan",
   "metadata": {},
   "source": [
    "# 約維安計畫：Python 的流程控制\n",
    "\n",
    "第十五週。\n",
    "\n",
    "[數據交點](https://www.datainpoint.com) | 郭耀仁 <yaojenkuo@datainpoint.com>"
   ]
  },
  {
   "cell_type": "markdown",
   "id": "devoted-ballot",
   "metadata": {},
   "source": [
    "![](https://media.giphy.com/media/MZ9nZGQn1nqBG/giphy.gif?cid=ecf05e47xkxn5ye64uiy4c1ih2bt6bco9mlp3ohll53yh4vs&rid=giphy.gif&ct=g)\n",
    "\n",
    "來源：<https://media.giphy.com/media/MZ9nZGQn1nqBG/giphy.gif>"
   ]
  },
  {
   "cell_type": "markdown",
   "id": "sustainable-banner",
   "metadata": {},
   "source": [
    "## 什麼是流程控制\n",
    "\n",
    "多數程式語言都會從程式碼的第一列開始按照列（Row-wise）的順序往下讀取並且執行，但是在某些情況下，我們會希望能在某些程式碼可以依照需求不執行、執行或者執行多次，這時就可以透過流程控制的機制來滿足這些情況。\n",
    "\n",
    "流程控制指的是在程式執行時，能夠依賴條件來決定程式區塊（Code blocks）中的指令、敘述或者函數呼叫的執行次數，在條件為布林 `False` 的時候，程式區塊中的程式碼執行次數為 0（不執行）；在條件為布林 `True` 的時候，程式區塊中的程式碼執行次數大於等於 1。具體來說，流程控制是一種機制，這個機制能讓一段指令在某些情況下不被執行、在某些情況下被執行一次或者在某些情況下被重複執行，Python 實現流程控制有三種方式：\n",
    "\n",
    "1. 條件判斷。\n",
    "2. 迴圈。\n",
    "3. 例外處理。\n",
    "\n",
    "其中，條件判斷能夠使用 `if-elif-else` 敘述與布林完成；迴圈則有兩種選擇，一是使用 `while` 敘述與布林，二是使用 `for` 敘述與可走訪物件（Iterables）；例外處理能夠使用 `try-except` 敘述與錯誤種類完成。\n",
    "\n",
    "## 什麼是區塊\n",
    "\n",
    "區塊（Code blocks）指的是將一系列相關的敘述集合在一起的程式碼結構，在多數的程式語言中，區塊使用一對大括號（A curly-brace pair）將敘述包裝在裡面形成區塊。但是，在 Python 中建立區塊跟多數的程式語言截然不同，Python 使用縮排（Indentations）而非一對大括號來將敘述包裝為區塊，在前述三種類型的流程控制中，都會利用區塊將敘述依附給條件判斷、迴圈與例外處理，如此一來就能夠在某些情況下讓區塊中的程式不被執行、執行僅一次或執行特定次數。\n",
    "\n",
    "## 條件判斷\n",
    "\n",
    "條件判斷是依指定變數或者運算的布林值為真或假時，來決定是否執行一段位於某區塊內的程式，透過 `if-elif-else` 敘述可以根據指定條件是否成立，決定後續要執行的程式，也可以組合多個 `if-elif-else` 敘述進行更複雜的條件判斷。\n",
    "\n",
    "我們使用保留字 `if` 搭配一個條件（之後接一個冒號 :）就能夠建立一個 `if` 敘述，`if` 敘述能夠讓區塊的執行與否依賴條件的布林值，如果條件為 `True` 則執行依附其縮排下的程式區塊；若條件為 `False` 則不執行依附其縮排下的程式區塊。\n",
    "\n",
    "```python\n",
    "if CONDITION:\n",
    "    # code block attached to if statement\n",
    "```\n",
    "\n",
    "`CONDITION` 可以透過關係運算符或者邏輯運算符生成，例如判斷輸入整數是否為正。"
   ]
  },
  {
   "cell_type": "code",
   "execution_count": 1,
   "id": "boxed-reserve",
   "metadata": {},
   "outputs": [
    {
     "name": "stdout",
     "output_type": "stream",
     "text": [
      "0 is positive.\n",
      "-1 is negative.\n"
     ]
    }
   ],
   "source": [
    "def is_positive(x):\n",
    "    if x >= 0:\n",
    "        return f\"{x} is positive.\"\n",
    "    if x < 0:\n",
    "        return f\"{x} is negative.\"\n",
    "\n",
    "print(is_positive(0))\n",
    "print(is_positive(-1))"
   ]
  },
  {
   "cell_type": "markdown",
   "id": "democratic-parish",
   "metadata": {},
   "source": [
    "我們使用保留字 `if` 與 `elif` 搭配各自的條件建立一個 `if-elif` 敘述，如果 `if` 後面的條件為 `True` 則執行依附其縮排下的程式區塊；若 `if` 後面的條件為 `False` 則跳過該區塊改為檢視 `elif` 後面的條件，如果是 `True` 就執行依附其縮排下的程式區塊；\n",
    "若 `elif` 後面的條件為 `False` 則跳過該區塊，其中 `elif` 是 **else if** 的簡寫。\n",
    "\n",
    "```python\n",
    "if CONDITION:\n",
    "    # code block attached to if statement\n",
    "elif CONDITION:\n",
    "    # code block attached to elif statement\n",
    "```\n",
    "\n",
    "`CONDITION` 可以透過關係運算符或者邏輯運算符生成，例如判斷輸入整數是否為正。"
   ]
  },
  {
   "cell_type": "code",
   "execution_count": 2,
   "id": "infectious-heather",
   "metadata": {},
   "outputs": [
    {
     "name": "stdout",
     "output_type": "stream",
     "text": [
      "0 is positive.\n",
      "-1 is negative.\n"
     ]
    }
   ],
   "source": [
    "def is_positive(x):\n",
    "    if x >= 0:\n",
    "        return f\"{x} is positive.\"\n",
    "    elif x < 0:\n",
    "        return f\"{x} is negative.\"\n",
    "\n",
    "print(is_positive(0))\n",
    "print(is_positive(-1))"
   ]
  },
  {
   "cell_type": "markdown",
   "id": "smooth-yacht",
   "metadata": {},
   "source": [
    "我們使用保留字 `if`、`else` 搭配一個條件建立一個 `if-else` 敘述，如果 `if` 後面的條件為 `True` 則執行依附其縮排下的程式區塊；若 `if` 後面的條件為 `False` 則跳過該區塊改為執行依附 `else` 縮排下的程式區塊。\n",
    "\n",
    "```python\n",
    "if CONDITION:\n",
    "    # code block attached to if statement\n",
    "else:\n",
    "    # code block attached to else statement\n",
    "```\n",
    "\n",
    "`CONDITION` 可以透過關係運算符或者邏輯運算符生成，例如判斷輸入整數是否為正。"
   ]
  },
  {
   "cell_type": "code",
   "execution_count": 3,
   "id": "molecular-wings",
   "metadata": {},
   "outputs": [
    {
     "name": "stdout",
     "output_type": "stream",
     "text": [
      "0 is positive.\n",
      "-1 is negative.\n"
     ]
    }
   ],
   "source": [
    "def is_positive(x):\n",
    "    if x >= 0:\n",
    "        return f\"{x} is positive.\"\n",
    "    else:\n",
    "        return f\"{x} is negative.\"\n",
    "\n",
    "print(is_positive(0))\n",
    "print(is_positive(-1))"
   ]
  },
  {
   "cell_type": "markdown",
   "id": "colonial-completion",
   "metadata": {},
   "source": [
    "在前面的例子中，我們可以看到同樣一個「判斷輸入整數是否為正」的函數，可以用不同的條件判斷敘述來實作，那麼在應用情境上，該如何區別與採用？簡單來說，我們可以藉由判斷 `CONDITION` 是否互斥（Mutually exclusive）來決定。這個說法是依據 `if` 敘述、`if-elif` 與 `if-else` 敘述的主要差別，由於 `if-elif` 與 `if-else` 敘述的條件判斷是有先後順序的，當前面 `if` 敘述得到了布林值 `True`，意味著後續的 `elif` 或 `else` 敘述就無關緊要了。簡單來說，假如條件彼此之間是互斥的，條件判斷怎麼寫大概都沒有問題；但反過來說，假如條件彼此之間是「非互斥」的話，判斷的順序以及 `if` 敘述、`if-elif` 與 `if-else` 敘述就會需要謹慎地選擇。舉例來說，我們依據 <https://en.wikipedia.org/wiki/Body_mass_index> 寫作一個函數 `get_bmi_desc()` 可以根據輸入的 BMI 數值，給予過輕、正常、過重或肥胖的文字輸出，將四個條件寫成互斥的格式：\n",
    "\n",
    "1. 過輕：BMI < 18.5。\n",
    "2. 正常：BMI >= 18.5 and BMI < 25。\n",
    "3. 過重：BMI >= 25 and BMI < 30。\n",
    "4. 肥胖：BMI >= 30。\n",
    "\n",
    "在條件互斥的狀況下，怎麼寫大概都沒有問題。"
   ]
  },
  {
   "cell_type": "code",
   "execution_count": 4,
   "id": "tutorial-terrain",
   "metadata": {},
   "outputs": [
    {
     "name": "stdout",
     "output_type": "stream",
     "text": [
      "過輕\n",
      "正常\n",
      "過重\n",
      "肥胖\n"
     ]
    }
   ],
   "source": [
    "def get_bmi_desc(bmi):\n",
    "    if bmi < 18.5:\n",
    "        bmi_desc = \"過輕\"\n",
    "    elif bmi >= 30:\n",
    "        bmi_desc = \"肥胖\"\n",
    "    elif bmi >= 25 and bmi < 30:\n",
    "        bmi_desc = \"過重\"\n",
    "    elif bmi >= 18.5 and bmi < 25:\n",
    "        bmi_desc = \"正常\"\n",
    "    return bmi_desc\n",
    "\n",
    "print(get_bmi_desc(17))\n",
    "print(get_bmi_desc(23))\n",
    "print(get_bmi_desc(29))\n",
    "print(get_bmi_desc(31))"
   ]
  },
  {
   "cell_type": "markdown",
   "id": "legal-group",
   "metadata": {},
   "source": [
    "但這不表示條件判斷就必須將條件都寫成互斥才可以，在適當順序與敘述安排下，即使非互斥也能達到正確判斷結果。"
   ]
  },
  {
   "cell_type": "code",
   "execution_count": 5,
   "id": "turned-subcommittee",
   "metadata": {},
   "outputs": [
    {
     "name": "stdout",
     "output_type": "stream",
     "text": [
      "過輕\n",
      "正常\n",
      "過重\n",
      "肥胖\n"
     ]
    }
   ],
   "source": [
    "def get_bmi_desc(bmi):\n",
    "    if bmi >= 30:\n",
    "        bmi_desc = \"肥胖\"\n",
    "    elif bmi >= 25:\n",
    "        bmi_desc = \"過重\"\n",
    "    elif bmi >= 18.5:\n",
    "        bmi_desc = \"正常\"\n",
    "    else:\n",
    "        bmi_desc = \"過輕\"\n",
    "    return bmi_desc\n",
    "\n",
    "print(get_bmi_desc(17))\n",
    "print(get_bmi_desc(23))\n",
    "print(get_bmi_desc(29))\n",
    "print(get_bmi_desc(31))"
   ]
  },
  {
   "cell_type": "markdown",
   "id": "decent-reaction",
   "metadata": {},
   "source": [
    "## 迴圈\n",
    "\n",
    "迴圈是常見的流程控制之一，這是一種在區塊中只出現一次、但卻可能被連續執行多次的程式碼結構，區塊中的程式碼會執行特定的次數、執行到特定條件成立時結束或者走訪資料結構中的所有內容，與串列切割的語法概念相似，迴圈也能夠用開始、結束與間隔三個要素描述。\n",
    "\n",
    "- start：迴圈的開始。\n",
    "- stop：迴圈的結束。\n",
    "- step：迴圈從起始前往終止的方法。\n",
    "\n",
    "我們可以使用保留字 `while` 與條件建立一個 `while` 迴圈區塊，當條件為 `True` 重複執行依附其縮排下的程式區塊，描述迴圈的 step 常用複合運算符（Compound operators），例如 `i += step` 就等同於 `i = i + step`。\n",
    "\n",
    "```python\n",
    "i = 0 # start\n",
    "while CONDITION: # stop\n",
    "    # code block attached to while statement\n",
    "    i += step\n",
    "```\n",
    "\n",
    "`CONDITION` 可以透過關係運算符或者邏輯運算符生成，例如印出前 n 個奇數。"
   ]
  },
  {
   "cell_type": "code",
   "execution_count": 6,
   "id": "endangered-mention",
   "metadata": {},
   "outputs": [
    {
     "name": "stdout",
     "output_type": "stream",
     "text": [
      "1\n",
      "3\n",
      "5\n",
      "7\n",
      "9\n"
     ]
    }
   ],
   "source": [
    "def print_first_n_odds(n):\n",
    "    i = 1\n",
    "    odds = []\n",
    "    while len(odds) < n:\n",
    "        print(i)\n",
    "        odds.append(i)\n",
    "        i += 2\n",
    "\n",
    "print_first_n_odds(5)"
   ]
  },
  {
   "cell_type": "markdown",
   "id": "iraqi-offer",
   "metadata": {},
   "source": [
    "我們可以使用保留字 `for` 與可走訪物件（Iterables）建立一個 `for` 迴圈區塊，依附其縮排下的程式區塊會重複執行，直到可走訪物件中的所有元素都被走訪完畢。\n",
    "\n",
    "```python\n",
    "for i in ITERABLE: # start/stop/step\n",
    "    # code block attached to for statement\n",
    "```\n",
    "\n",
    "可走訪物件被宣告完成的當下，迴圈的三要素就已經描述完畢。\n",
    "\n",
    "- start 可迭代物件的第 0 項元素。\n",
    "- stop 可迭代物件的最後一項（索引值 -1 的元素）。\n",
    "- step 可迭代物件的逗號區隔。\n",
    "\n",
    "`ITERABLE` 可以內建函數 `range()` 生成，例如印出前 n 個奇數。"
   ]
  },
  {
   "cell_type": "code",
   "execution_count": 7,
   "id": "august-confidence",
   "metadata": {},
   "outputs": [
    {
     "name": "stdout",
     "output_type": "stream",
     "text": [
      "Help on class range in module builtins:\n",
      "\n",
      "class range(object)\n",
      " |  range(stop) -> range object\n",
      " |  range(start, stop[, step]) -> range object\n",
      " |  \n",
      " |  Return an object that produces a sequence of integers from start (inclusive)\n",
      " |  to stop (exclusive) by step.  range(i, j) produces i, i+1, i+2, ..., j-1.\n",
      " |  start defaults to 0, and stop is omitted!  range(4) produces 0, 1, 2, 3.\n",
      " |  These are exactly the valid indices for a list of 4 elements.\n",
      " |  When step is given, it specifies the increment (or decrement).\n",
      " |  \n",
      " |  Methods defined here:\n",
      " |  \n",
      " |  __bool__(self, /)\n",
      " |      self != 0\n",
      " |  \n",
      " |  __contains__(self, key, /)\n",
      " |      Return key in self.\n",
      " |  \n",
      " |  __eq__(self, value, /)\n",
      " |      Return self==value.\n",
      " |  \n",
      " |  __ge__(self, value, /)\n",
      " |      Return self>=value.\n",
      " |  \n",
      " |  __getattribute__(self, name, /)\n",
      " |      Return getattr(self, name).\n",
      " |  \n",
      " |  __getitem__(self, key, /)\n",
      " |      Return self[key].\n",
      " |  \n",
      " |  __gt__(self, value, /)\n",
      " |      Return self>value.\n",
      " |  \n",
      " |  __hash__(self, /)\n",
      " |      Return hash(self).\n",
      " |  \n",
      " |  __iter__(self, /)\n",
      " |      Implement iter(self).\n",
      " |  \n",
      " |  __le__(self, value, /)\n",
      " |      Return self<=value.\n",
      " |  \n",
      " |  __len__(self, /)\n",
      " |      Return len(self).\n",
      " |  \n",
      " |  __lt__(self, value, /)\n",
      " |      Return self<value.\n",
      " |  \n",
      " |  __ne__(self, value, /)\n",
      " |      Return self!=value.\n",
      " |  \n",
      " |  __reduce__(...)\n",
      " |      Helper for pickle.\n",
      " |  \n",
      " |  __repr__(self, /)\n",
      " |      Return repr(self).\n",
      " |  \n",
      " |  __reversed__(...)\n",
      " |      Return a reverse iterator.\n",
      " |  \n",
      " |  count(...)\n",
      " |      rangeobject.count(value) -> integer -- return number of occurrences of value\n",
      " |  \n",
      " |  index(...)\n",
      " |      rangeobject.index(value) -> integer -- return index of value.\n",
      " |      Raise ValueError if the value is not present.\n",
      " |  \n",
      " |  ----------------------------------------------------------------------\n",
      " |  Static methods defined here:\n",
      " |  \n",
      " |  __new__(*args, **kwargs) from builtins.type\n",
      " |      Create and return a new object.  See help(type) for accurate signature.\n",
      " |  \n",
      " |  ----------------------------------------------------------------------\n",
      " |  Data descriptors defined here:\n",
      " |  \n",
      " |  start\n",
      " |  \n",
      " |  step\n",
      " |  \n",
      " |  stop\n",
      "\n"
     ]
    }
   ],
   "source": [
    "help(range)"
   ]
  },
  {
   "cell_type": "code",
   "execution_count": 8,
   "id": "expressed-brave",
   "metadata": {},
   "outputs": [
    {
     "name": "stdout",
     "output_type": "stream",
     "text": [
      "1\n",
      "3\n",
      "5\n",
      "7\n",
      "9\n"
     ]
    }
   ],
   "source": [
    "def print_first_n_odds(n):\n",
    "    iterable = range(1, n*2, 2)\n",
    "    for i in iterable:\n",
    "        print(i)\n",
    "\n",
    "print_first_n_odds(5)"
   ]
  },
  {
   "cell_type": "markdown",
   "id": "possible-respect",
   "metadata": {},
   "source": [
    "在前面的例子中，我們可以看到同樣一個「印出前 n 個奇數」的函數，可以用不同的迴圈類型來實作，那麼在應用情境上，該如何區別與採用？簡單來說，我們可以藉由判斷區塊程式「重複執行的次數是否已知」來決定，已知重複執行次數的情境可以用任意迴圈，未知重複執行次數的情境僅能採用 `while` 迴圈。這個說法是依據 `while` 迴圈與 `for` 迴圈的主要差別，`while` 在重複執行區塊程式的時候，會在 `CONDITION` 為 `False` 的時候終止；而 `for` 在重複執行區塊程式的時候，會在可迭代物件中的元素用罄時候終止。這表示 `while` 迴圈根據一個型別為布林變數的物件決定重複執行程式區塊是否終止；`for` 迴圈則根據一個已知元素數量的可迭代物件決定重複執行程式區塊是否終止。舉例來說，內建函數 `bin()` 可以將十進位整數轉換為二進位文字，轉換方式是透過「輾轉相除法」將十進位整數持續以 2 相除，直到商數的部分為 0 或者 1，其中「輾轉相除法」就是一個「未知重複執行次數」的情況，沒有辦法在一開始就得知需要多少次的輾轉相除才能結束。"
   ]
  },
  {
   "cell_type": "code",
   "execution_count": 9,
   "id": "caroline-rescue",
   "metadata": {},
   "outputs": [
    {
     "name": "stdout",
     "output_type": "stream",
     "text": [
      "10\n",
      "11\n"
     ]
    }
   ],
   "source": [
    "def int_to_bin_str(x):\n",
    "    if x < 2:\n",
    "        return str(x)\n",
    "    binary_str = \"\"\n",
    "    while x > 0:\n",
    "        modulo = x % 2\n",
    "        binary_str = str(modulo) + binary_str\n",
    "        x //= 2\n",
    "    return binary_str\n",
    "\n",
    "print(int_to_bin_str(2))\n",
    "print(int_to_bin_str(3))"
   ]
  },
  {
   "cell_type": "markdown",
   "id": "drawn-cardiff",
   "metadata": {},
   "source": [
    "在 Python 中所謂的可走訪物件（Iterables）是任意長度的資料結構（包含串列、Tuples、集合、字典）或者文字，這些可走訪物件都能夠直接放置在 `for` 迴圈中使用。"
   ]
  },
  {
   "cell_type": "code",
   "execution_count": 10,
   "id": "round-football",
   "metadata": {},
   "outputs": [
    {
     "name": "stdout",
     "output_type": "stream",
     "text": [
      "2\n",
      "3\n",
      "5\n",
      "7\n",
      "11\n",
      "2\n",
      "3\n",
      "5\n",
      "7\n",
      "11\n",
      "2\n",
      "3\n",
      "5\n",
      "7\n",
      "11\n",
      "2\n",
      "3\n",
      "5\n",
      "7\n"
     ]
    }
   ],
   "source": [
    "def print_iterable_elements(x):\n",
    "    for e in x:\n",
    "        print(e)\n",
    "\n",
    "primes_list = [2, 3, 5, 7, 11]\n",
    "primes_tuple = (2, 3, 5, 7, 11)\n",
    "primes_set = {2, 3, 5, 7, 11}\n",
    "primes_str = \"2357\"\n",
    "print_iterable_elements(primes_list)\n",
    "print_iterable_elements(primes_tuple)\n",
    "print_iterable_elements(primes_set)\n",
    "print_iterable_elements(primes_str)"
   ]
  },
  {
   "cell_type": "markdown",
   "id": "fantastic-worcester",
   "metadata": {},
   "source": [
    "但字典是具有鍵（keys）與資料（values）的資料結構，在走時要特別留意是希望走訪字典的鍵或者字典的值，透過字典的 `keys()`、`values()` 與 `items()` 方法分別可以取出鍵、資料或者兩者，其中 `items()` 方法會將標籤以及資料兩兩合併在一個 Tuple 中。"
   ]
  },
  {
   "cell_type": "code",
   "execution_count": 11,
   "id": "twelve-eleven",
   "metadata": {},
   "outputs": [
    {
     "name": "stdout",
     "output_type": "stream",
     "text": [
      "1st\n",
      "2nd\n",
      "3rd\n",
      "4th\n",
      "5th\n",
      "2\n",
      "3\n",
      "5\n",
      "7\n",
      "11\n",
      "2 is the 1st prime.\n",
      "3 is the 2nd prime.\n",
      "5 is the 3rd prime.\n",
      "7 is the 4th prime.\n",
      "11 is the 5th prime.\n"
     ]
    }
   ],
   "source": [
    "primes_dict = {\n",
    "    \"1st\": 2,\n",
    "    \"2nd\": 3,\n",
    "    \"3rd\": 5,\n",
    "    \"4th\": 7,\n",
    "    \"5th\": 11\n",
    "}\n",
    "# Iterating a dict\n",
    "for k in primes_dict.keys():\n",
    "    print(k)\n",
    "for v in primes_dict.values():\n",
    "    print(v)\n",
    "for k, v in primes_dict.items():\n",
    "    print(\"{} is the {} prime.\".format(v, k))"
   ]
  },
  {
   "cell_type": "markdown",
   "id": "incident-paradise",
   "metadata": {},
   "source": [
    "將流程控制的兩個技巧條件判斷與迴圈合併使用會讓我們的程式撰寫更有彈性，保留字 `break` 能夠讓我們在走訪的過程中在條件為 `True` 的時候終止迴圈，舉例來說當走訪到非整數的時候終止迴圈。"
   ]
  },
  {
   "cell_type": "code",
   "execution_count": 12,
   "id": "modified-debate",
   "metadata": {},
   "outputs": [
    {
     "name": "stdout",
     "output_type": "stream",
     "text": [
      "2\n",
      "3\n"
     ]
    }
   ],
   "source": [
    "primes = [2, 3, \"5\", 7, 11]\n",
    "for p in primes:\n",
    "    if not isinstance(p, int):\n",
    "        break\n",
    "    print(p)"
   ]
  },
  {
   "cell_type": "markdown",
   "id": "satellite-pakistan",
   "metadata": {},
   "source": [
    "保留字 `continue` 能夠讓我們在走訪的過程中在條件為 `True` 的時候略過該元素但是繼續完成迴圈，舉例來說當走訪到非整數的時候略過。"
   ]
  },
  {
   "cell_type": "code",
   "execution_count": 13,
   "id": "complex-oriental",
   "metadata": {},
   "outputs": [
    {
     "name": "stdout",
     "output_type": "stream",
     "text": [
      "2\n",
      "3\n",
      "7\n",
      "11\n"
     ]
    }
   ],
   "source": [
    "primes = [2, 3, \"5\", 7, 11]\n",
    "for p in primes:\n",
    "    if not isinstance(p, int):\n",
    "        continue\n",
    "    print(p)"
   ]
  },
  {
   "cell_type": "markdown",
   "id": "japanese-entertainment",
   "metadata": {},
   "source": [
    "## 例外處理\n",
    "\n",
    "例外處理指的是針對程式區塊執行時所出現的例外（Exceptions）進行對應的處置，在執行程式區塊時遭遇的例外往往是由於錯誤而引發，包含無效的物件名稱、檔案不存在或型別不正確等，錯誤會無條件停止 Python 程式，破壞程式執行正常的流程，例外處理就是在程式區塊遭遇例外時能夠移交控制權的一種機制。簡單來說，例外處理就像是另一種類型的條件判斷，只不過條件判斷倚賴條件的布林值決定哪個程式區塊要被執行，而例外處理則是依賴程式區塊是否產生了錯誤來決定哪個程式區塊要被執行。\n",
    "\n",
    "我們可以使用保留字 `try`、`except` 與錯誤類別建立一個例外處理區塊，依附 `try` 保留字縮排下的程式區塊一但執行時遭遇到了錯誤，就會跳過該區塊改為執行依附 `except` 保留字縮排下的程式區塊。\n",
    "\n",
    "```python\n",
    "try:\n",
    "    # code block attached to try statement\n",
    "except:\n",
    "    # code block attached to except statement\n",
    "```\n",
    "\n",
    "例如將輸入的兩數相除，在輸入兩數其中一者為文字時候會產生型別錯誤（`TypeError`）而導致 Python 程式執行停止，也因此在呼叫 `divide()` 函數後的 `print()` 函數都沒有被執行。"
   ]
  },
  {
   "cell_type": "code",
   "execution_count": 14,
   "id": "dimensional-cleanup",
   "metadata": {},
   "outputs": [
    {
     "ename": "TypeError",
     "evalue": "unsupported operand type(s) for /: 'int' and 'str'",
     "output_type": "error",
     "traceback": [
      "\u001b[0;31m---------------------------------------------------------------------------\u001b[0m",
      "\u001b[0;31mTypeError\u001b[0m                                 Traceback (most recent call last)",
      "\u001b[0;32m<ipython-input-14-087bad9f94e9>\u001b[0m in \u001b[0;36m<module>\u001b[0;34m\u001b[0m\n\u001b[1;32m      2\u001b[0m     \u001b[0;32mreturn\u001b[0m \u001b[0ma\u001b[0m \u001b[0;34m/\u001b[0m \u001b[0mb\u001b[0m\u001b[0;34m\u001b[0m\u001b[0;34m\u001b[0m\u001b[0m\n\u001b[1;32m      3\u001b[0m \u001b[0;34m\u001b[0m\u001b[0m\n\u001b[0;32m----> 4\u001b[0;31m \u001b[0mprint\u001b[0m\u001b[0;34m(\u001b[0m\u001b[0mdivide\u001b[0m\u001b[0;34m(\u001b[0m\u001b[0;36m55\u001b[0m\u001b[0;34m,\u001b[0m \u001b[0;34m'0'\u001b[0m\u001b[0;34m)\u001b[0m\u001b[0;34m)\u001b[0m\u001b[0;34m\u001b[0m\u001b[0;34m\u001b[0m\u001b[0m\n\u001b[0m\u001b[1;32m      5\u001b[0m \u001b[0mprint\u001b[0m\u001b[0;34m(\u001b[0m\u001b[0;34m\"This message will not be printed.\"\u001b[0m\u001b[0;34m)\u001b[0m\u001b[0;34m\u001b[0m\u001b[0;34m\u001b[0m\u001b[0m\n\u001b[1;32m      6\u001b[0m \u001b[0mprint\u001b[0m\u001b[0;34m(\u001b[0m\u001b[0;34m\"This message will also not be printed.\"\u001b[0m\u001b[0;34m)\u001b[0m\u001b[0;34m\u001b[0m\u001b[0;34m\u001b[0m\u001b[0m\n",
      "\u001b[0;32m<ipython-input-14-087bad9f94e9>\u001b[0m in \u001b[0;36mdivide\u001b[0;34m(a, b)\u001b[0m\n\u001b[1;32m      1\u001b[0m \u001b[0;32mdef\u001b[0m \u001b[0mdivide\u001b[0m\u001b[0;34m(\u001b[0m\u001b[0ma\u001b[0m\u001b[0;34m,\u001b[0m \u001b[0mb\u001b[0m\u001b[0;34m)\u001b[0m\u001b[0;34m:\u001b[0m\u001b[0;34m\u001b[0m\u001b[0;34m\u001b[0m\u001b[0m\n\u001b[0;32m----> 2\u001b[0;31m     \u001b[0;32mreturn\u001b[0m \u001b[0ma\u001b[0m \u001b[0;34m/\u001b[0m \u001b[0mb\u001b[0m\u001b[0;34m\u001b[0m\u001b[0;34m\u001b[0m\u001b[0m\n\u001b[0m\u001b[1;32m      3\u001b[0m \u001b[0;34m\u001b[0m\u001b[0m\n\u001b[1;32m      4\u001b[0m \u001b[0mprint\u001b[0m\u001b[0;34m(\u001b[0m\u001b[0mdivide\u001b[0m\u001b[0;34m(\u001b[0m\u001b[0;36m55\u001b[0m\u001b[0;34m,\u001b[0m \u001b[0;34m'0'\u001b[0m\u001b[0;34m)\u001b[0m\u001b[0;34m)\u001b[0m\u001b[0;34m\u001b[0m\u001b[0;34m\u001b[0m\u001b[0m\n\u001b[1;32m      5\u001b[0m \u001b[0mprint\u001b[0m\u001b[0;34m(\u001b[0m\u001b[0;34m\"This message will not be printed.\"\u001b[0m\u001b[0;34m)\u001b[0m\u001b[0;34m\u001b[0m\u001b[0;34m\u001b[0m\u001b[0m\n",
      "\u001b[0;31mTypeError\u001b[0m: unsupported operand type(s) for /: 'int' and 'str'"
     ]
    }
   ],
   "source": [
    "def divide(a, b):\n",
    "    return a / b\n",
    "\n",
    "print(divide(55, '0'))\n",
    "print(\"This message will not be printed.\")\n",
    "print(\"This message will also not be printed.\")"
   ]
  },
  {
   "cell_type": "markdown",
   "id": "suspected-willow",
   "metadata": {},
   "source": [
    "加入例外處理，可以確保在呼叫 `divide()` 函數後的 `print()` 函數都會被執行。"
   ]
  },
  {
   "cell_type": "code",
   "execution_count": null,
   "id": "finite-transfer",
   "metadata": {},
   "outputs": [],
   "source": [
    "def divide(a, b):\n",
    "    try:\n",
    "        return a / b\n",
    "    except:\n",
    "        return None\n",
    "\n",
    "print(divide(55, '0'))\n",
    "print(\"This message will be printed.\")\n",
    "print(\"This message will also be printed.\")"
   ]
  },
  {
   "cell_type": "markdown",
   "id": "equal-speaking",
   "metadata": {},
   "source": [
    "若在保留字 `except` 之後加上錯誤類別可以依照產生的錯誤，回傳不同的對應輸出。"
   ]
  },
  {
   "cell_type": "code",
   "execution_count": null,
   "id": "contemporary-portfolio",
   "metadata": {},
   "outputs": [],
   "source": [
    "def divide(a, b):\n",
    "    try:\n",
    "        return a / b\n",
    "    except TypeError:\n",
    "        return \"TypeError occurred.\"\n",
    "    except ZeroDivisionError:\n",
    "        return \"ZeroDivisionError occured.\"\n",
    "\n",
    "print(divide(55, '0'))\n",
    "print(divide(55, 0))\n",
    "print(\"This message will be printed.\")\n",
    "print(\"This message will also be printed.\")"
   ]
  },
  {
   "cell_type": "markdown",
   "id": "worse-storm",
   "metadata": {},
   "source": [
    "在認識了條件判斷、迴圈與例外處理這三種流程控制的機制之後，約維安計畫：第十五週來到尾聲，希望您也和我一樣期待下一篇文章。\n",
    "\n",
    "## 延伸閱讀\n",
    "\n",
    "- https://docs.python.org/3/tutorial/errors.html"
   ]
  }
 ],
 "metadata": {
  "kernelspec": {
   "display_name": "Python 3",
   "language": "python",
   "name": "python3"
  },
  "language_info": {
   "codemirror_mode": {
    "name": "ipython",
    "version": 3
   },
   "file_extension": ".py",
   "mimetype": "text/x-python",
   "name": "python",
   "nbconvert_exporter": "python",
   "pygments_lexer": "ipython3",
   "version": "3.8.5"
  }
 },
 "nbformat": 4,
 "nbformat_minor": 5
}
